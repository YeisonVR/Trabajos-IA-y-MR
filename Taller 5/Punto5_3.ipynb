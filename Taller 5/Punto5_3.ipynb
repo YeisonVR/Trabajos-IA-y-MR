{
 "cells": [
  {
   "cell_type": "code",
   "execution_count": null,
   "id": "bdf5d722",
   "metadata": {},
   "outputs": [],
   "source": [
    "import numpy as np\n",
    "import tensorflow as tf\n",
    "from tensorflow import keras\n",
    "from tensorflow.keras import layers\n"
   ]
  },
  {
   "cell_type": "markdown",
   "id": "ebc0f715",
   "metadata": {},
   "source": [
    "Se importan las bibliotecas necesarias: NumPy para manipulación de matrices, TensorFlow para la construcción y entrenamiento del modelo, y Keras para simplificar el proceso de creación de modelos de red neuronal."
   ]
  },
  {
   "cell_type": "code",
   "execution_count": null,
   "id": "cefc015b",
   "metadata": {},
   "outputs": [],
   "source": [
    "entrada_entrenamiento = np.array([1,2,3,4,5,6,7,8,9,10,11,12,13,14,15,16,17,18,19,20,21,22,23,24,25])\n",
    "salida_entrenamiento = np.array([0,1,1,3,1,3,5,7,1,3,5,7,9,11,13,15,1,3,5,7,9,11,13,15,17,19,21,23,25])\n"
   ]
  },
  {
   "cell_type": "markdown",
   "id": "9ebd9b7a",
   "metadata": {},
   "source": [
    "Estos son los datos de entrada y salida utilizados para entrenar el modelo. Aquí, entrada_entrenamiento representa los números y salida_entrenamiento representa la posición de Josephus correspondiente para cada número."
   ]
  },
  {
   "cell_type": "code",
   "execution_count": null,
   "id": "e365e8e0",
   "metadata": {},
   "outputs": [],
   "source": [
    "salida_entrenamiento = salida_entrenamiento[:len(entrada_entrenamiento)]\n"
   ]
  },
  {
   "cell_type": "markdown",
   "id": "4eee6e1b",
   "metadata": {},
   "source": [
    "Se ajusta la longitud de salida_entrenamiento para que sea igual a la longitud de entrada_entrenamiento."
   ]
  },
  {
   "cell_type": "code",
   "execution_count": null,
   "id": "b89a3f6e",
   "metadata": {},
   "outputs": [],
   "source": [
    "modelo = keras.Sequential([\n",
    "    layers.Dense(64, activation='relu', input_shape=(1,)),\n",
    "    layers.Dense(1, activation='linear')\n",
    "])\n"
   ]
  },
  {
   "cell_type": "markdown",
   "id": "f8dcc14a",
   "metadata": {},
   "source": [
    "Se construye un modelo secuencial de Keras con dos capas densas (totalmente conectadas). La primera capa tiene 64 neuronas con la función de activación ReLU, y la segunda capa tiene 1 neurona con activación lineal."
   ]
  },
  {
   "cell_type": "code",
   "execution_count": null,
   "id": "1698bd59",
   "metadata": {},
   "outputs": [],
   "source": [
    "modelo.compile(optimizer='adam', loss='mean_squared_error')\n"
   ]
  },
  {
   "cell_type": "markdown",
   "id": "1dcdbc43",
   "metadata": {},
   "source": [
    "Se compila el modelo con el optimizador Adam y la función de pérdida de error cuadrático medio."
   ]
  },
  {
   "cell_type": "code",
   "execution_count": null,
   "id": "56ade8a2",
   "metadata": {},
   "outputs": [],
   "source": [
    "modelo.fit(entrada_entrenamiento, salida_entrenamiento, epochs=5000, verbose=0)\n"
   ]
  },
  {
   "cell_type": "markdown",
   "id": "27a5e20b",
   "metadata": {},
   "source": [
    "Se entrena el modelo con los datos de entrada y salida durante 5000 épocas."
   ]
  },
  {
   "cell_type": "code",
   "execution_count": null,
   "id": "72ba2500",
   "metadata": {},
   "outputs": [],
   "source": [
    "def predecir_posicion(numero):\n",
    "    entrada = np.array([numero])\n",
    "    prediccion = modelo.predict(entrada)\n",
    "    return int(round(prediccion[0][0]))\n"
   ]
  },
  {
   "cell_type": "markdown",
   "id": "6ee9b666",
   "metadata": {},
   "source": [
    "Se define una función predecir_posicion que toma un número como entrada, realiza la predicción utilizando el modelo entrenado y devuelve la posición predicha."
   ]
  },
  {
   "cell_type": "code",
   "execution_count": null,
   "id": "b9a36f4d",
   "metadata": {},
   "outputs": [],
   "source": [
    "for num in [1, 2, 6, 10, 20]:\n",
    "    posicion_predicha = predecir_posicion(num)\n",
    "    print(f\"Para el número {num}, comenzar en la posición {posicion_predicha}\")\n"
   ]
  },
  {
   "cell_type": "markdown",
   "id": "fc6c45d8",
   "metadata": {},
   "source": [
    "Se realizan predicciones para algunos números específicos y se imprimen los resultados."
   ]
  },
  {
   "cell_type": "code",
   "execution_count": null,
   "id": "da689bbc",
   "metadata": {},
   "outputs": [],
   "source": [
    "numero_arbitrario = 6\n",
    "posicion_arbitraria = predecir_posicion(numero_arbitrario)\n",
    "print(f\"Para el número {numero_arbitrario}, comenzar en la posición {posicion_arbitraria}\")\n"
   ]
  },
  {
   "cell_type": "markdown",
   "id": "b937229c",
   "metadata": {},
   "source": [
    "Se realiza una predicción para un número arbitrario y se imprime el resultado."
   ]
  }
 ],
 "metadata": {
  "kernelspec": {
   "display_name": "Python 3 (ipykernel)",
   "language": "python",
   "name": "python3"
  },
  "language_info": {
   "codemirror_mode": {
    "name": "ipython",
    "version": 3
   },
   "file_extension": ".py",
   "mimetype": "text/x-python",
   "name": "python",
   "nbconvert_exporter": "python",
   "pygments_lexer": "ipython3",
   "version": "3.11.3"
  }
 },
 "nbformat": 4,
 "nbformat_minor": 5
}
