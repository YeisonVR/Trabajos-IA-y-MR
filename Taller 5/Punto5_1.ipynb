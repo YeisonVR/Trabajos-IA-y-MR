{
 "cells": [
  {
   "cell_type": "code",
   "execution_count": null,
   "id": "060385c6",
   "metadata": {},
   "outputs": [],
   "source": [
    "# Importación de bibliotecas\n",
    "import pandas as pd\n",
    "import numpy as np\n",
    "from sklearn.model_selection import train_test_split\n",
    "from sklearn.preprocessing import MinMaxScaler\n",
    "from tensorflow.keras.models import Sequential\n",
    "from tensorflow.keras.layers import Dense"
   ]
  },
  {
   "cell_type": "code",
   "execution_count": null,
   "id": "ecf59f4a",
   "metadata": {},
   "outputs": [],
   "source": [
    "# Cargar los datos desde el archivo CSV\n",
    "data = pd.read_csv('oil.csv', delimiter=';')"
   ]
  },
  {
   "cell_type": "markdown",
   "id": "1a8e658e",
   "metadata": {},
   "source": [
    "Carga los datos desde un archivo CSV llamado 'oil.csv' utilizando pandas. son los datos necesarios para predecir el precio del petroleo que para este caso se escojieron Close, Var, Maximo, Minimo."
   ]
  },
  {
   "cell_type": "code",
   "execution_count": null,
   "id": "9f8a6d89",
   "metadata": {},
   "outputs": [],
   "source": [
    "# Seleccionar las variables de entrada (X) y la variable de salida (y)\n",
    "X = data[['Close', 'Var', 'Maximo', 'Minimo']].values\n",
    "y = data['Close'].shift(-1).values[:-1]"
   ]
  },
  {
   "cell_type": "markdown",
   "id": "a24b7f20",
   "metadata": {},
   "source": [
    "Selecciona las variables de entrada (X) y salida (y) del DataFrame. X contiene las columnas 'Close', 'Var', 'Maximo', y 'Minimo'. y contiene el valor de cierre del petróleo del día siguiente utilizando shift(-1) para desplazar los valores una fila hacia arriba."
   ]
  },
  {
   "cell_type": "code",
   "execution_count": null,
   "id": "2d4b7e6b",
   "metadata": {},
   "outputs": [],
   "source": [
    "# Normalizar los datos\n",
    "scaler_X = MinMaxScaler()\n",
    "scaler_y = MinMaxScaler()\n",
    "\n",
    "X_scaled = scaler_X.fit_transform(X)\n",
    "y_scaled = scaler_y.fit_transform(y.reshape(-1, 1))\n"
   ]
  },
  {
   "cell_type": "markdown",
   "id": "4cd81029",
   "metadata": {},
   "source": [
    "Crea instancias de MinMaxScaler para las variables de entrada (scaler_X) y salida (scaler_y). Luego, normaliza los datos utilizando estos escaladores."
   ]
  },
  {
   "cell_type": "code",
   "execution_count": null,
   "id": "412d48e0",
   "metadata": {},
   "outputs": [],
   "source": [
    "# Dividir los datos en conjuntos de entrenamiento y prueba\n",
    "X_train, X_test, y_train, y_test = train_test_split(X_scaled[:-1], y_scaled, test_size=0.2, random_state=42)\n"
   ]
  },
  {
   "cell_type": "markdown",
   "id": "dad4328e",
   "metadata": {},
   "source": [
    "Divide los datos normalizados en conjuntos de entrenamiento y prueba utilizando train_test_split."
   ]
  },
  {
   "cell_type": "code",
   "execution_count": null,
   "id": "83aa4fb4",
   "metadata": {},
   "outputs": [],
   "source": [
    "# Crear el modelo de red neuronal\n",
    "model = Sequential()\n",
    "model.add(Dense(32, activation='relu', input_dim=X.shape[1]))\n",
    "model.add(Dense(1, activation='linear'))"
   ]
  },
  {
   "cell_type": "markdown",
   "id": "243ee0f9",
   "metadata": {},
   "source": [
    "Crea el modelo de red neuronal utilizando la clase Sequential. Agrega una capa densa con 32 nodos de activación ReLU como capa de entrada, y una capa densa con 1 nodo y activación lineal como capa de salida."
   ]
  },
  {
   "cell_type": "code",
   "execution_count": null,
   "id": "e300e267",
   "metadata": {},
   "outputs": [],
   "source": [
    "# Compilar el modelo\n",
    "model.compile(optimizer='adam', loss='mean_squared_error')"
   ]
  },
  {
   "cell_type": "markdown",
   "id": "5d4d2d9c",
   "metadata": {},
   "source": [
    "Compila el modelo utilizando el optimizador Adam y la función de pérdida de error cuadrático medio."
   ]
  },
  {
   "cell_type": "code",
   "execution_count": null,
   "id": "e58871d8",
   "metadata": {},
   "outputs": [],
   "source": [
    "# Entrenar el modelo\n",
    "model.fit(X_train, y_train, epochs=50, batch_size=32, validation_data=(X_test, y_test))\n"
   ]
  },
  {
   "cell_type": "markdown",
   "id": "634a420f",
   "metadata": {},
   "source": [
    "Entrena el modelo con los datos de entrenamiento durante 50 épocas, utilizando lotes de tamaño 32 y validando en el conjunto de prueba."
   ]
  },
  {
   "cell_type": "code",
   "execution_count": null,
   "id": "07152a34",
   "metadata": {},
   "outputs": [],
   "source": [
    "# Evaluar el modelo\n",
    "loss = model.evaluate(X_test, y_test)\n",
    "print(f'Pedrdida en el conjunto de prueba: {loss}')\n"
   ]
  },
  {
   "cell_type": "markdown",
   "id": "7b54462b",
   "metadata": {},
   "source": [
    "Evalúa el modelo en el conjunto de prueba y muestra la pérdida."
   ]
  },
  {
   "cell_type": "code",
   "execution_count": null,
   "id": "d3b38907",
   "metadata": {},
   "outputs": [],
   "source": [
    "# Hacer predicciones para el día siguiente\n",
    "last_data = X_scaled[-1].reshape(1, -1)\n",
    "predicted_scaled = model.predict(last_data)\n",
    "predicted = scaler_y.inverse_transform(predicted_scaled)\n",
    "\n",
    "print(f'Predicción del valor del petróleo del día siguiente: {predicted[0, 0]}')\n"
   ]
  },
  {
   "cell_type": "markdown",
   "id": "90763025",
   "metadata": {},
   "source": [
    "Hace predicciones para el valor del petróleo del día siguiente utilizando los datos normalizados más recientes. Invierte la normalización para obtener la predicción en la escala original y muestra el resultado."
   ]
  }
 ],
 "metadata": {
  "kernelspec": {
   "display_name": "Python 3 (ipykernel)",
   "language": "python",
   "name": "python3"
  },
  "language_info": {
   "codemirror_mode": {
    "name": "ipython",
    "version": 3
   },
   "file_extension": ".py",
   "mimetype": "text/x-python",
   "name": "python",
   "nbconvert_exporter": "python",
   "pygments_lexer": "ipython3",
   "version": "3.11.3"
  }
 },
 "nbformat": 4,
 "nbformat_minor": 5
}
