{
 "cells": [
  {
   "cell_type": "markdown",
   "id": "bfb930be",
   "metadata": {},
   "source": [
    "5. Suponga que tiene un robot que le entrega galletas al grupo de ingenieros de diseño de\n",
    "robots. Programe por PG el recorrido del robot, teniendo en cuenta que cada vez que un\n",
    "ingeniero recibe una galleta gana puntos. Los ingenieros están distribuidos en una sala\n",
    "cuadrada. Defina, conjunto de terminales, conjunto de funciones y función de aptitud.\n",
    "\n"
   ]
  },
  {
   "cell_type": "markdown",
   "id": "f736ed11",
   "metadata": {},
   "source": [
    "## Conjunto de Terminales:\n",
    "\n",
    "Pueden ser las coordenadas de la sala y siya entrego galleta \n",
    "Coordenadas (x, y) del robot.\n",
    "Coordenadas (x, y) de cada ingeniero.\n",
    "Hay o no hay galletas\n",
    "\n",
    "## Conjunto de Funciones:\n",
    "\n",
    "Dirección en la que el robot se moverá (arriba, abajo, izquierda, derecha) para entregra la galleta.\n",
    "Tambien debe llevar la cuenta de los puntos y si ya tiene galleta ee ingeniero o no.\n",
    "\n",
    "## Función de Aptitud:\n",
    "\n",
    "La función de aptitud evalúa qué tan bueno es un individuo (programa) en términos de su desempeño en la tarea dada. En este caso, la función de aptitud podría ser la cantidad total de galletas entregadas a los ingenieros y en ese mismo sentido el puntaje. Para calcular esto, el programa debe ejecutarse en un entorno simulado donde se mueve el robot según las instrucciones proporcionadas por el programa y se entregan las galletas a los ingenieros.\n",
    "\n",
    "La función de aptitud podría estar definida como:\n",
    "\n",
    "Aptitud= ∑ Galletas_Entregadas\n",
    "\n",
    "Donde ∑Galletas_Entregadas es la suma de las galletas entregadas a cada ingeniero.\n",
    "\n",
    "Después de definir estos elementos, se puede utilizar un algoritmo de PG para evolucionar y optimizar el programa del robot. Este proceso implicaría la creación de una población inicial de programas aleatorios, la evaluación de su rendimiento usando la función de aptitud, la selección de los programas mejor adaptados, la reproducción (cruzamiento y mutación) para crear una nueva generación de programas y repetir este ciclo durante varias generaciones hasta que se alcance un criterio de parada (por ejemplo, un cierto número de generaciones o un nivel de aptitud deseado).\n"
   ]
  },
  {
   "cell_type": "markdown",
   "id": "1de41e0e",
   "metadata": {},
   "source": []
  }
 ],
 "metadata": {
  "kernelspec": {
   "display_name": "Python 3 (ipykernel)",
   "language": "python",
   "name": "python3"
  },
  "language_info": {
   "codemirror_mode": {
    "name": "ipython",
    "version": 3
   },
   "file_extension": ".py",
   "mimetype": "text/x-python",
   "name": "python",
   "nbconvert_exporter": "python",
   "pygments_lexer": "ipython3",
   "version": "3.11.3"
  }
 },
 "nbformat": 4,
 "nbformat_minor": 5
}
