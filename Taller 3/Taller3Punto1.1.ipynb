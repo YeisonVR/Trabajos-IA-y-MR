{
 "cells": [
  {
   "cell_type": "markdown",
   "id": "115727f4",
   "metadata": {},
   "source": [
    "1.1 Encontrar, usando el método de AGs, la raíz real del polinomio P(x) = 5x5- 3x4-x3-5x2-x-3 en el intervalo [0.5 1], \n",
    "usando números reales, una población de 100 listas, un solo tipo de cruce y selección por clasificación. \n",
    "Dibuje un cuadro de aptitud contra generación."
   ]
  },
  {
   "cell_type": "markdown",
   "id": "900ea38f",
   "metadata": {},
   "source": [
    "## Propósito del Código\n",
    "\n",
    "El propósito de este código es utilizar un algoritmo genético para encontrar una raíz aproximada de un polinomio dado. En términos más simples, busca un valor de \\(x\\) para el cual el polinomio \\(P(x)\\) es aproximadamente igual a cero.\n",
    "\n",
    "### Pasos del Algoritmo\n",
    "\n",
    "1. **Definición del Polinomio**:\n",
    "    - Se define un polinomio de quinto grado llamado \\(P(x)\\).\n",
    "\n",
    "2. **Parámetros del Algoritmo Genético**:\n",
    "    - Se establecen los parámetros del algoritmo genético, como el tamaño de la población, el número de generaciones y la tasa de mutación.\n",
    "\n",
    "3. **Función de Aptitud**:\n",
    "    - Se define una función de aptitud que mide qué tan cerca está un candidato de ser una solución. En este caso, se usa la función de aptitud para evaluar qué tan cercano está el polinomio a cero para un valor de \\(x\\) específico.\n",
    "\n",
    "4. **Inicialización de la Población**:\n",
    "    - Se crea una población inicial de candidatos con valores de \\(x\\) aleatorios en un rango específico.\n",
    "\n",
    "5. **Ciclo Principal del Algoritmo Genético**:\n",
    "    - A lo largo de un número determinado de generaciones, se realizan los siguientes pasos:\n",
    "        - Se evalúa la aptitud de cada individuo en la población.\n",
    "        - Se calculan las probabilidades de selección basadas en la aptitud.\n",
    "        - Se seleccionan individuos para la reproducción según estas probabilidades.\n",
    "        - Se generan nuevos individuos a través del cruce y, opcionalmente, se aplican mutaciones.\n",
    "        - La población se actualiza con la nueva generación de individuos.\n",
    "\n",
    "6. **Registro de la Mejor Aptitud y el Mejor Candidato**:\n",
    "    - Se registra la mejor aptitud y el mejor candidato en cada generación.\n",
    "\n",
    "7. **Encontrar la Raíz Aproximada**:\n",
    "    - Se toma el mejor candidato de la última generación como la raíz aproximada.\n",
    "\n",
    "8. **Graficar la Aptitud contra Generación**:\n",
    "    - Se genera un gráfico que muestra cómo la aptitud evoluciona a lo largo de las generaciones.\n",
    "\n",
    "9. **Imprimir Resultados Finales**:\n",
    "    - Se imprime la raíz aproximada encontrada y el mejor candidato de la última generación.\n",
    "\n",
    "En resumen, el código utiliza un algoritmo genético para encontrar una solución (en este caso, una raíz aproximada) a un problema específico (en este caso, encontrar un valor de \\(x\\) para el cual el polinomio \\(P(x)\\) es cercano a cero). Este es un ejemplo de cómo se pueden aplicar algoritmos genéticos en la optimización y búsqueda de soluciones en problemas complejos.\n"
   ]
  },
  {
   "cell_type": "markdown",
   "id": "60e1373b",
   "metadata": {},
   "source": [
    "### Importación de Librerías"
   ]
  },
  {
   "cell_type": "code",
   "execution_count": 11,
   "id": "5e07e27a",
   "metadata": {},
   "outputs": [],
   "source": [
    "import math               # Libreria que se usa para realizar operaciones matemáticas y funciones\n",
    "import random             # Libreria usada para generar números aleatorios\n",
    "import numpy as np        # Libreria para trabajar con matrices y operaciones numéricas\n",
    "import matplotlib.pyplot as plt  # Librería para graficar\n"
   ]
  },
  {
   "cell_type": "markdown",
   "id": "e8d1c1b9",
   "metadata": {},
   "source": [
    "## Explicación del Código\n",
    "\n",
    "### 1. Definición del Polinomio `P(x)`\n",
    "\n",
    "```python\n",
    "def polynomial(x):\n",
    "    return 5*x**5 - 3*x**4 - x**3 - 5*x**2 - x - 3\n",
    "\n",
    "Esta función polynomial(x) define un polinomio de quinto grado."
   ]
  },
  {
   "cell_type": "code",
   "execution_count": 12,
   "id": "78ac8dec",
   "metadata": {},
   "outputs": [],
   "source": [
    "def Polinomio(x):\n",
    "    valor = 5 * x**5 - 3 * x**4 - x**3 - 5 * x**2 - x - 3\n",
    "    return valor"
   ]
  },
  {
   "cell_type": "markdown",
   "id": "2c9687cd",
   "metadata": {},
   "source": [
    "### 2. Parámetros del Algoritmo Genético"
   ]
  },
  {
   "cell_type": "code",
   "execution_count": 13,
   "id": "fca669e1",
   "metadata": {},
   "outputs": [],
   "source": [
    "# Parámetros del algoritmo genético\n",
    "longCrom = 100  # Longitud de los cromosomas\n",
    "TamañoPoblacion = 10  # Tamaño de la población\n",
    "NumeroGeneraciones = 100  # Número de Generaciones\n",
    "TasaMutacion = 0.05  # Tasa de mutación"
   ]
  },
  {
   "cell_type": "markdown",
   "id": "e1d50adf",
   "metadata": {},
   "source": [
    "Aquí se establecen los parámetros para el algoritmo genético:\n",
    "\n",
    "population_size: Tamaño de la población de candidatos.\n",
    "num_generations: Número de generaciones que se ejecutará el algoritmo.\n",
    "mutation_rate: Tasa de mutación, que determina la probabilidad de que un individuo mute."
   ]
  },
  {
   "cell_type": "markdown",
   "id": "91080fae",
   "metadata": {},
   "source": [
    "### 3. Función para evaluar la población"
   ]
  },
  {
   "cell_type": "code",
   "execution_count": 14,
   "id": "ee5bae42",
   "metadata": {},
   "outputs": [],
   "source": [
    "def EvaluarPoblacion(Pob_nueva):\n",
    "    # Inicialización de variables\n",
    "    Apt_total = 0\n",
    "    vectorX = np.zeros(TamañoPoblacion, dtype=float)\n",
    "    probab = np.zeros(TamañoPoblacion, dtype=float)\n",
    "    Polinomio = np.zeros(TamañoPoblacion, dtype=float)\n",
    "    mejor = 50.\n",
    "    mejorX = 0.\n",
    "\n",
    "    i = 0\n",
    "    while(i < TamañoPoblacion):\n",
    "        t, x = res_Funcion(Pob_nueva[i])\n",
    "        vectorX[i] = x\n",
    "        Polinomio[i] = (10 - abs(t)) * 100\n",
    "        i += 1\n",
    "    Apt_total = float(sum(Polinomio))\n",
    "    probab = 10 * [j/Apt_total for j in Polinomio]\n",
    "    maxprobab = np.amax(probab)\n",
    "    maxIndex = np.argmax(probab)\n",
    "    mejorx = vectorX[maxIndex]\n",
    "    probab[maxIndex] = 0.99\n",
    "    return probab, vectorX, max(Polinomio)"
   ]
  },
  {
   "cell_type": "markdown",
   "id": "6060c57c",
   "metadata": {},
   "source": [
    "Esta función evalúa la aptitud de cada solución en la población utilizando la función P(x)P(x).\n",
    "Devuelve probabilidades normalizadas, valores de xx y el mejor valor de la función P(x)P(x)"
   ]
  },
  {
   "cell_type": "markdown",
   "id": "b70d90af",
   "metadata": {},
   "source": [
    "### 4. Función para generar una población inicial"
   ]
  },
  {
   "cell_type": "code",
   "execution_count": 15,
   "id": "bf415064",
   "metadata": {},
   "outputs": [],
   "source": [
    "def GenerarPoblacionInicial(TamañoPoblacion, longCrom):\n",
    "    Pob_nueva = np.zeros([TamañoPoblacion, longCrom], dtype=int)\n",
    "    cromosoma = np.zeros([longCrom-1], dtype=int)\n",
    "    j = 0\n",
    "    while j < TamañoPoblacion:\n",
    "        cromosoma = [random.randint(0, 1) for i in range(longCrom)]\n",
    "        Pob_nueva[j] = cromosoma\n",
    "        j += 1\n",
    "    return Pob_nueva"
   ]
  },
  {
   "cell_type": "markdown",
   "id": "11fdc843",
   "metadata": {},
   "source": [
    "Esta función crea una población inicial de soluciones representadas como arreglos de bits."
   ]
  },
  {
   "cell_type": "markdown",
   "id": "f5b828ed",
   "metadata": {},
   "source": [
    "### 5. Función para calcular el valor de la función y la variable xx a partir de un cromosoma "
   ]
  },
  {
   "cell_type": "code",
   "execution_count": 16,
   "id": "1da6b6a0",
   "metadata": {},
   "outputs": [],
   "source": [
    "def res_Funcion(cromosoma):\n",
    "    x = decodificar(cromosoma)\n",
    "    funcion = Polinomio(x)\n",
    "    return funcion, x\n"
   ]
  },
  {
   "cell_type": "markdown",
   "id": "7832f34e",
   "metadata": {},
   "source": [
    "### 6. Función para decodificar un cromosoma"
   ]
  },
  {
   "cell_type": "code",
   "execution_count": 17,
   "id": "728ef656",
   "metadata": {},
   "outputs": [],
   "source": [
    "def decodificar(cromosoma):\n",
    "    xi = 0.5  # Límite inferior en el dominio real\n",
    "    xf = 1.5  # Límite superior en el dominio real\n",
    "    Max = 2 ** (longCrom)\n",
    "    cromPot = [cromosoma[i]*2**(longCrom-i-1) for i in range(longCrom)]\n",
    "    valorDecimal = sum(cromPot)\n",
    "    cromPot = 0\n",
    "    valDeco = ((xf-xi)/Max)*(valorDecimal)+xi\n",
    "    return valDeco"
   ]
  },
  {
   "cell_type": "markdown",
   "id": "997c0537",
   "metadata": {},
   "source": [
    "Convierte un cromosoma binario en un valor en el dominio real."
   ]
  },
  {
   "cell_type": "markdown",
   "id": "0d5318f6",
   "metadata": {},
   "source": [
    "### 7. Función de cruce"
   ]
  },
  {
   "cell_type": "code",
   "execution_count": 18,
   "id": "c13a6544",
   "metadata": {},
   "outputs": [],
   "source": [
    "def cruce(Pob_nueva, Probabilidad):\n",
    "    maxprobab = np.amax(prob_cromosoma)\n",
    "    maxIndex = np.argmax(prob_cromosoma)\n",
    "    len(Pob_nueva)\n",
    "    i = 0\n",
    "    while (i < TamañoPoblacion-1):\n",
    "        mejorCrom = Pob_nueva[maxIndex]\n",
    "        if Probabilidad[i] < 0.97:\n",
    "            rand = random.randint(2, longCrom-1)  # Posición de cruce aleatoria\n",
    "            padre1 = Pob_nueva[i]\n",
    "            padre2 = Pob_nueva[i+1]\n",
    "            j = rand\n",
    "            while(j < longCrom):\n",
    "                bit = padre1[j]\n",
    "                padre1[j] = padre2[j]\n",
    "                padre2[j] = bit\n",
    "                j += 1\n",
    "        else:\n",
    "            if maxIndex % 2 == 0:\n",
    "                Pob_nueva[i] = Pob_nueva[maxIndex]\n",
    "            else:\n",
    "                Pob_nueva[i+1] = Pob_nueva[maxIndex]\n",
    "        i += 2\n",
    "    return Pob_nueva"
   ]
  },
  {
   "cell_type": "markdown",
   "id": "79f654ff",
   "metadata": {},
   "source": [
    "Realiza el cruce de dos cromosomas para generar nuevos individuos en la población"
   ]
  },
  {
   "cell_type": "markdown",
   "id": "bba5ede8",
   "metadata": {},
   "source": [
    "### 8. Función de mutación"
   ]
  },
  {
   "cell_type": "code",
   "execution_count": 19,
   "id": "ee5cd210",
   "metadata": {},
   "outputs": [],
   "source": [
    "def muta(Pob_nueva, TasaMutacion):\n",
    "    totalbits = TamañoPoblacion * longCrom\n",
    "    segmento = 1/TasaMutacion\n",
    "    n_segmentos = totalbits/segmento\n",
    "    i = 0\n",
    "    while(i < n_segmentos-1):\n",
    "        aleatorio = random.randint(0, segmento-1)\n",
    "        posic = int(i * segmento + aleatorio)\n",
    "        y = int((posic/longCrom))\n",
    "        cromosoma = Pob_nueva[y]\n",
    "        x = posic - longCrom * y\n",
    "        if (cromosoma[x-1] == 0):\n",
    "            cromosoma[x-1] = 1\n",
    "        else:\n",
    "            cromosoma[x-1] = 0\n",
    "        i += 1\n",
    "    return Pob_nueva\n"
   ]
  },
  {
   "cell_type": "markdown",
   "id": "e6df9e7b",
   "metadata": {},
   "source": [
    "Introduce cambios aleatorios en los cromosomas de la población."
   ]
  },
  {
   "cell_type": "markdown",
   "id": "46a13aaa",
   "metadata": {},
   "source": [
    "### 9. Selección Basada en el Método de Ruleta"
   ]
  },
  {
   "cell_type": "code",
   "execution_count": 20,
   "id": "c4589bf1",
   "metadata": {},
   "outputs": [],
   "source": [
    "def seleccion_ruleta(poblacion, probabilidad):\n",
    "    chosen = []\n",
    "    while len(chosen) <= TamañoPoblacion:\n",
    "        for n in range(TamañoPoblacion):\n",
    "            r = random.random()\n",
    "            for (i, individuo) in enumerate(poblacion):\n",
    "                if i > TamañoPoblacion:\n",
    "                    break\n",
    "                if r <= probabilidad[i]:\n",
    "                    chosen.append(list(individuo))\n",
    "                    break\n",
    "    return chosen"
   ]
  },
  {
   "cell_type": "markdown",
   "id": "2d01eca7",
   "metadata": {},
   "source": [
    "### 10. Generación de la Nueva Población"
   ]
  },
  {
   "cell_type": "code",
   "execution_count": 21,
   "id": "ff2837a7",
   "metadata": {},
   "outputs": [],
   "source": [
    "# GenerarPoblacionInicialción de la población inicial\n",
    "Pob_nueva3 = GenerarPoblacionInicial(TamañoPoblacion, longCrom)\n",
    "prob_cromosoma, vectorX, AptI = EvaluarPoblacion(Pob_nueva3)\n",
    "i = 0\n",
    "\n",
    "Px = list()\n",
    "Py = list()\n",
    "PaptI = list()\n"
   ]
  },
  {
   "cell_type": "markdown",
   "id": "ef1df837",
   "metadata": {},
   "source": [
    "Se crea una población inicial llamada Pob_nueva3 usando la función GenerarPoblacionInicial."
   ]
  },
  {
   "cell_type": "markdown",
   "id": "8e4daa89",
   "metadata": {},
   "source": [
    "### 11. While principal para la ejecución del algoritmo genético"
   ]
  },
  {
   "cell_type": "code",
   "execution_count": 22,
   "id": "33151e6d",
   "metadata": {},
   "outputs": [],
   "source": [
    "while (i < NumeroGeneraciones):\n",
    "    Pob_vieja = Pob_nueva3\n",
    "    Pob_nueva1 = seleccion_ruleta(Pob_vieja, prob_cromosoma)\n",
    "    Pob_nueva2 = cruce(Pob_nueva1, prob_cromosoma)\n",
    "    Pob_nueva3 = muta(Pob_nueva2, TasaMutacion)\n",
    "    prob_cromosoma, vectorX, AptI = EvaluarPoblacion(Pob_nueva3)\n",
    "    maxprobab = np.amax(prob_cromosoma)\n",
    "    maxIndex = np.argmax(prob_cromosoma)\n",
    "    mejorx = vectorX[maxIndex]\n",
    "    x = mejorx\n",
    "    val = Polinomio(x)\n",
    "    Px.append(i)\n",
    "    Py.append(val)\n",
    "    PaptI.append(AptI)\n",
    "    i += 1"
   ]
  },
  {
   "cell_type": "markdown",
   "id": "4ffb9846",
   "metadata": {},
   "source": [
    "Se ejecuta el algoritmo durante un número de generaciones determinado, actualizando la población en cada iteración mediante selección, cruce y mutación."
   ]
  },
  {
   "cell_type": "markdown",
   "id": "df5ef8ea",
   "metadata": {},
   "source": [
    "### 12. Graficar la Aptitud contra Generación"
   ]
  },
  {
   "cell_type": "code",
   "execution_count": 23,
   "id": "431d234e",
   "metadata": {},
   "outputs": [
    {
     "data": {
      "image/png": "[encoded data removed]",
      "text/plain": [
       "<Figure size 640x480 with 1 Axes>"
      ]
     },
     "metadata": {},
     "output_type": "display_data"
    },
    {
     "data": {
      "image/png": "[encoded data removed]",
      "text/plain": [
       "<Figure size 640x480 with 1 Axes>"
      ]
     },
     "metadata": {},
     "output_type": "display_data"
    }
   ],
   "source": [
    "# Gráficos\n",
    "plt.plot(Px, Py)\n",
    "plt.xlabel('GenerarPoblacionInicialción')\n",
    "plt.ylabel('Valor')\n",
    "plt.show()\n",
    "\n",
    "plt.plot(Px, PaptI)\n",
    "plt.xlabel('GenerarPoblacionInicialción')\n",
    "plt.ylabel('Polinomio máxima')\n",
    "plt.show()\n"
   ]
  },
  {
   "cell_type": "markdown",
   "id": "f6592309",
   "metadata": {},
   "source": [
    "Se generan dos gráficos que muestran la evolución del valor de la función y el valor máximo de P(x)P(x) en función del número de generaciones."
   ]
  },
  {
   "cell_type": "markdown",
   "id": "eac9584c",
   "metadata": {},
   "source": [
    "### 13. Resultados Finales"
   ]
  },
  {
   "cell_type": "code",
   "execution_count": 24,
   "id": "ede4694d",
   "metadata": {},
   "outputs": [
    {
     "name": "stdout",
     "output_type": "stream",
     "text": [
      "Mejor Solución x: 1.4346372674366838 con F(x) = -0.00017992289715973442\n"
     ]
    }
   ],
   "source": [
    "# Encontrar el mejor individuo\n",
    "best_individual = Pob_nueva3[maxIndex]\n",
    "best_x = vectorX[maxIndex]\n",
    "best_fitness = Polinomio(best_x)\n",
    "\n",
    "# Mostrar el resultado\n",
    "print(\"Mejor Solución x:\", best_x, \"con F(x) =\", best_fitness)\n"
   ]
  },
  {
   "cell_type": "markdown",
   "id": "c7cd7959",
   "metadata": {},
   "source": [
    "Se identifica el mejor individuo y se calcula su valor de x y el resultado de P(x) y se imprime en la consola la mejor solución encontrada."
   ]
  }
 ],
 "metadata": {
  "kernelspec": {
   "display_name": "Python 3 (ipykernel)",
   "language": "python",
   "name": "python3"
  },
  "language_info": {
   "codemirror_mode": {
    "name": "ipython",
    "version": 3
   },
   "file_extension": ".py",
   "mimetype": "text/x-python",
   "name": "python",
   "nbconvert_exporter": "python",
   "pygments_lexer": "ipython3",
   "version": "3.11.3"
  }
 },
 "nbformat": 4,
 "nbformat_minor": 5
}
