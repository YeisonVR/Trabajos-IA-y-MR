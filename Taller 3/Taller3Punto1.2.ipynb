{
 "cells": [
  {
   "cell_type": "markdown",
   "id": "310492a4",
   "metadata": {},
   "source": [
    "1.2 Suponga que tiene una lista de 15 alimentos con número de calorías, gramos de proteína, gramos de grasa y gramos de carbohidratos. Suponga que un individuo debe consumir determinada cantidad de calorías, proteínas, grasa y carbohidratos. Genere una dieta para ese individuo."
   ]
  },
  {
   "cell_type": "markdown",
   "id": "6b84c0ff",
   "metadata": {},
   "source": [
    "Construiremos es un ejemplo de un algoritmo genético aplicado a la generación de dietas nutricionales. Vamos a desglosar el código y proporcionar una explicación paso a paso:"
   ]
  },
  {
   "cell_type": "markdown",
   "id": "3911feb9",
   "metadata": {},
   "source": [
    "### Importación de Librerías:"
   ]
  },
  {
   "cell_type": "code",
   "execution_count": 4,
   "id": "2630932c",
   "metadata": {},
   "outputs": [],
   "source": [
    "import random\n",
    "import pandas as pd\n"
   ]
  },
  {
   "cell_type": "markdown",
   "id": "2b20e197",
   "metadata": {},
   "source": [
    "### Lectura de Datos:"
   ]
  },
  {
   "cell_type": "code",
   "execution_count": 5,
   "id": "e7d9dc53",
   "metadata": {},
   "outputs": [],
   "source": [
    "\n",
    "df = pd.read_csv('Lista de alimentos.txt', header=None, sep=',', engine='python')\n",
    "\n",
    "# Agregar comillas a la primera columna\n",
    "df[0] = '\"' + df[0] + '\"'\n",
    "\n",
    "# Guardar los datos en una lista de listas\n",
    "alimentos = df.values.tolist()"
   ]
  },
  {
   "cell_type": "markdown",
   "id": "adf04bbe",
   "metadata": {},
   "source": [
    "## Definición de Funciones:"
   ]
  },
  {
   "cell_type": "markdown",
   "id": "a3a01124",
   "metadata": {},
   "source": [
    "calcular_valor_nutricional(dieta): Esta función toma una lista que representa una dieta y calcula diferentes métricas nutricionales como calorías, proteínas, grasas y carbohidratos basados en la composición de la dieta y los valores nutricionales de los alimentos."
   ]
  },
  {
   "cell_type": "code",
   "execution_count": 6,
   "id": "e3648df9",
   "metadata": {},
   "outputs": [],
   "source": [
    "def calcular_valor_nutricional(dieta):\n",
    "    total_calorias = sum(dieta[i] * alimentos[i][1] for i in range(len(alimentos)))\n",
    "    total_proteinas = sum(dieta[i] * alimentos[i][2] for i in range(len(alimentos)))\n",
    "    total_grasas = sum(dieta[i] * alimentos[i][3] for i in range(len(alimentos)))\n",
    "    total_carbohidratos = sum(dieta[i] * alimentos[i][4] for i in range(len(alimentos)))\n",
    "\n",
    "    Total_dieta = abs(total_calorias - objetivo_calorias) + \\\n",
    "              abs(total_proteinas - objetivo_proteinas) + \\\n",
    "              abs(total_grasas - objetivo_grasas) + \\\n",
    "              abs(total_carbohidratos - objetivo_carb)\n",
    "    \n",
    "    return total_calorias, total_proteinas, total_grasas, total_carbohidratos, Total_dieta"
   ]
  },
  {
   "cell_type": "markdown",
   "id": "965cf216",
   "metadata": {},
   "source": [
    "evaluar_dieta(dieta, objetivo): Esta función evalúa la aptitud de una dieta comparando sus valores nutricionales con un objetivo predefinido. Devuelve un valor que indica qué tan cercana está la dieta al objetivo.\n"
   ]
  },
  {
   "cell_type": "code",
   "execution_count": 7,
   "id": "c76f136a",
   "metadata": {},
   "outputs": [],
   "source": [
    "def evaluar_dieta(dieta, objetivo):\n",
    "    valor_nutricional = calcular_valor_nutricional(dieta)\n",
    "    \n",
    "    return valor_nutricional[4]"
   ]
  },
  {
   "cell_type": "markdown",
   "id": "3728348a",
   "metadata": {},
   "source": [
    "seleccionar_padres(poblacion, objetivo): Selecciona a los dos individuos con la mejor aptitud de una población para la reproducción.\n"
   ]
  },
  {
   "cell_type": "code",
   "execution_count": 8,
   "id": "2bda84e8",
   "metadata": {},
   "outputs": [],
   "source": [
    "def seleccionar_padres(poblacion, objetivo):\n",
    "    return sorted(poblacion, key=lambda x: evaluar_dieta(x, objetivo))[:2]\n"
   ]
  },
  {
   "cell_type": "markdown",
   "id": "082c9cfa",
   "metadata": {},
   "source": [
    "cruzar_dietas(padre1, padre2): Realiza la cruza (crossover) de dos individuos para producir dos descendientes.\n"
   ]
  },
  {
   "cell_type": "code",
   "execution_count": 9,
   "id": "0a875f0d",
   "metadata": {},
   "outputs": [],
   "source": [
    "def cruzar_dietas(padre1, padre2):\n",
    "    punto_cruza = random.randint(1, len(alimentos) - 1)\n",
    "    hijo1 = padre1[:punto_cruza] + padre2[punto_cruza:]\n",
    "    hijo2 = padre2[:punto_cruza] + padre1[punto_cruza:]\n",
    "    return hijo1, hijo2\n"
   ]
  },
  {
   "cell_type": "markdown",
   "id": "fcf6fcb5",
   "metadata": {},
   "source": [
    "mutar_dieta(dieta): Aplica una mutación a una dieta, es decir, cambia algunos de los genes (elementos de la lista) de la dieta."
   ]
  },
  {
   "cell_type": "code",
   "execution_count": 10,
   "id": "294a40cb",
   "metadata": {},
   "outputs": [],
   "source": [
    "def mutar_dieta(dieta):\n",
    "    # Crea una lista vacía para almacenar la nueva dieta mutada\n",
    "    nueva_dieta = []\n",
    "    \n",
    "    # Itera sobre cada gen en la lista \"dieta\"\n",
    "    for gen in dieta:\n",
    "        # Genera un número aleatorio entre 0 y 1\n",
    "        if random.random() < tasa_mutacion:\n",
    "            # Si el número aleatorio es menor que la tasa de mutación,\n",
    "            # entonces el gen se muta (se cambia de 0 a 1 o de 1 a 0)\n",
    "            nueva_dieta.append(1 - gen)\n",
    "        else:\n",
    "            # Si el número aleatorio es mayor o igual que la tasa de mutación,\n",
    "            # el gen se mantiene igual y se añade a la nueva dieta\n",
    "            nueva_dieta.append(gen)\n",
    "    \n",
    "    # Devuelve la nueva dieta mutada\n",
    "    return nueva_dieta"
   ]
  },
  {
   "cell_type": "markdown",
   "id": "cf3c2811",
   "metadata": {},
   "source": [
    "Iniciarpoblacion: Crea una poblacion inicial"
   ]
  },
  {
   "cell_type": "code",
   "execution_count": 11,
   "id": "10f44ba4",
   "metadata": {},
   "outputs": [],
   "source": [
    "def Iniciarpoblacion():\n",
    "    population = []\n",
    "    for _ in range(tamano_poblacion):\n",
    "        diet_plan = [random.randint(0, 1) for _ in range(len(alimentos))]\n",
    "        population.append(diet_plan)\n",
    "    return population"
   ]
  },
  {
   "cell_type": "markdown",
   "id": "b6779968",
   "metadata": {},
   "source": [
    "## Parámetros del Algoritmo Genético:\n",
    "\n",
    "Se definen los objetivos nutricionales y los parámetros específicos del algoritmo genético, como el tamaño de la población, la tasa de mutación y el número de generaciones."
   ]
  },
  {
   "cell_type": "code",
   "execution_count": 12,
   "id": "f1a0688a",
   "metadata": {},
   "outputs": [],
   "source": [
    "# Parámetros para algoritmo genético\n",
    "objetivo_calorias = 2000\n",
    "objetivo_proteinas = 150\n",
    "objetivo_grasas = 200\n",
    "objetivo_carb = 62\n",
    "objetivo = (objetivo_calorias, objetivo_proteinas, objetivo_grasas, objetivo_carb)  # Objetivo de calorías, proteínas, grasas y carbohidratos\n",
    "\n",
    "#Estos son los parámetros específicos del algoritmo genético, como el tamaño de la población, la tasa de mutación y el número de generaciones.\n",
    "tamano_poblacion = 100\n",
    "tasa_mutacion = 0.01\n",
    "num_generaciones = 100"
   ]
  },
  {
   "cell_type": "markdown",
   "id": "a7b7e200",
   "metadata": {},
   "source": [
    "Se inicializa la población con un conjunto de dietas generadas aleatoriamente."
   ]
  },
  {
   "cell_type": "code",
   "execution_count": 13,
   "id": "055534d2",
   "metadata": {},
   "outputs": [],
   "source": [
    "poblacion = Iniciarpoblacion()"
   ]
  },
  {
   "cell_type": "markdown",
   "id": "9cf2c9aa",
   "metadata": {},
   "source": [
    "## Bucle principal\n",
    "\n",
    "Se realiza un bucle a través de un número predefinido de generaciones. En cada generación, se evalúa la aptitud de las dietas, se seleccionan los padres, se realiza la cruza y se aplica la mutación. La nueva población sustituye a la anterior."
   ]
  },
  {
   "cell_type": "code",
   "execution_count": 14,
   "id": "216d4e84",
   "metadata": {},
   "outputs": [],
   "source": [
    "\n",
    "# Evolución de la población\n",
    "for generacion in range(num_generaciones):\n",
    "    poblacion = sorted(poblacion, key=lambda x: evaluar_dieta(x, objetivo))\n",
    "    mejor_dieta = poblacion[0]\n",
    "    mejor_valor_nutricional = evaluar_dieta(mejor_dieta, objetivo)\n",
    "    \n",
    "    if mejor_valor_nutricional == 0:\n",
    "        break\n",
    "    #    print(f\"Generación {generacion}: Mejor dieta = {mejor_dieta}, Valor nutricional = {mejor_valor_nutricional}\")\n",
    "\n",
    "    NuevaPoblacion = [mejor_dieta]\n",
    "    \n",
    "    while len(NuevaPoblacion) < tamano_poblacion:\n",
    "        parent1, parent2 = random.choices(poblacion[:10], k=2)\n",
    "        child1, child2 = cruzar_dietas(parent1, parent2)\n",
    "        child1 = mutar_dieta(child1)\n",
    "        child2 = mutar_dieta(child2)\n",
    "        NuevaPoblacion.extend([child1, child2])\n",
    "    \n",
    "    poblacion = NuevaPoblacion\n"
   ]
  },
  {
   "cell_type": "markdown",
   "id": "6665fcbd",
   "metadata": {},
   "source": [
    "## Mostrar los Resultados:\n",
    "Se imprime la mejor dieta encontrada, junto con su valor nutricional y los alimentos recomendados."
   ]
  },
  {
   "cell_type": "code",
   "execution_count": 15,
   "id": "a666aec9",
   "metadata": {},
   "outputs": [
    {
     "name": "stdout",
     "output_type": "stream",
     "text": [
      "\n",
      "Mejor dieta encontrada:\n",
      "Dieta = [0, 0, 0, 0, 1, 1, 0, 0, 0, 0, 0, 0, 0, 0, 0, 0, 1, 0, 0, 0, 0, 0, 0, 0, 0, 0, 1, 0, 0, 0, 0, 0, 0, 0, 0, 0, 0, 0, 0, 0, 0, 0, 0, 0, 0, 0, 0, 0, 0, 0, 0, 0, 0, 0, 0, 0, 0, 0, 0, 0, 0, 0, 0, 0, 0, 0, 0, 0, 0, 0, 0, 0, 0, 1, 0, 0, 0, 0, 0, 0, 0, 0, 0, 0, 0, 0, 0, 0, 0, 0, 0, 0, 0, 0, 0, 0, 0, 0, 0, 0, 0, 0, 1, 1, 1, 0, 1, 1, 1, 0, 0, 0, 0, 0, 0, 0, 0, 0, 0, 0, 0, 0, 0, 1, 0, 1, 0, 1, 1, 0, 0, 0, 0, 1, 0, 0, 1, 1, 1, 0, 1, 0, 0, 0, 0, 0, 0, 0, 0, 1, 0, 0, 0, 0, 0, 1, 0, 0, 0, 0, 1, 0, 0, 0, 0, 0, 0, 0, 0, 0, 0, 0, 0, 0, 1, 1, 0, 0, 1, 1, 0, 0, 0, 0, 1, 0, 0, 0, 0, 0, 0, 0, 0, 0, 0, 0, 0, 0, 0, 0, 0, 0, 1, 0, 0, 0, 0, 0, 0, 0, 0, 0, 0, 0, 0, 0, 0, 0, 0, 0, 0, 0, 0, 0, 0, 0, 0, 0, 0, 0, 0, 0, 0, 0, 0, 0, 0, 0, 0, 0, 0, 0, 0, 0, 0, 0, 0, 0, 0, 0, 0, 0, 0, 0, 0, 0, 0, 0, 0, 0, 0, 0, 0, 0, 0, 0, 0, 0, 0, 0, 1, 0, 0, 0, 0, 0, 0, 0, 0, 0, 0, 0, 0, 0, 0, 0, 0, 1, 0, 0, 0, 0, 0, 0, 0, 0, 0, 0, 0, 0]\n",
      "Valor nutricional = 13.280000000000044\n",
      "Valor nutricional = (2002.0, 159.40000000000003, 199.65, 63.530000000000015, 13.280000000000044)\n",
      "Calorias: 2002.0\n",
      "Proteinas: 159.40000000000003\n",
      "Grasas: 199.65\n",
      "Carbohidratos: 63.530000000000015\n",
      "\n",
      "Alimentos a consumir en la mejor dieta:\n",
      "5. \"Leche descremada\": 1 unidades\n",
      "6. \"Leche cultiv.descr.\": 1 unidades\n",
      "17. \"Queso Blanco diet\": 1 unidades\n",
      "27. \"Queso de máquina\": 1 unidades\n",
      "74. \"Chivo\": 1 unidades\n",
      "103. \"Bacalao\": 1 unidades\n",
      "104. \"Brótola\": 1 unidades\n",
      "105. \"Caballa\": 1 unidades\n",
      "107. \"Merluza\": 1 unidades\n",
      "108. \"Pejerrey\": 1 unidades\n",
      "109. \"Salmón rosado\": 1 unidades\n",
      "124. \"Pulpo\": 1 unidades\n",
      "126. \"Acelga\": 1 unidades\n",
      "128. \"Ají Morrón rojo\": 1 unidades\n",
      "129. \"Alcaucil\": 1 unidades\n",
      "134. \"Berenjena\": 1 unidades\n",
      "137. \"Calabaza\": 1 unidades\n",
      "138. \"Cebolla\": 1 unidades\n",
      "139. \"Chauchas\": 1 unidades\n",
      "141. \"Repollo Blanco\": 1 unidades\n",
      "150. \"Hongos\": 1 unidades\n",
      "156. \"Pepino\": 1 unidades\n",
      "161. \"Zanahoria\": 1 unidades\n",
      "175. \"Frutilla\": 1 unidades\n",
      "176. \"Granada\": 1 unidades\n",
      "179. \"Kiwi\": 1 unidades\n",
      "180. \"Limón\": 1 unidades\n",
      "185. \"Níspero\": 1 unidades\n",
      "203. \"Durazno en almíbar diet\": 1 unidades\n",
      "271. \"Salsa blanca\": 1 unidades\n",
      "288. \"Agua tónica\": 1 unidades\n"
     ]
    }
   ],
   "source": [
    "\n",
    "# Mostrar la mejor dieta encontrada y los alimentos a consumir\n",
    "print(\"\\nMejor dieta encontrada:\")\n",
    "print(f\"Dieta = {mejor_dieta}\")\n",
    "print(f\"Valor nutricional = {mejor_valor_nutricional}\")\n",
    "\n",
    "print(f\"Valor nutricional = {calcular_valor_nutricional(mejor_dieta)}\")\n",
    "Datos_mejor_dieta = calcular_valor_nutricional(mejor_dieta)\n",
    "print(f\"Calorias: {Datos_mejor_dieta[0]}\")\n",
    "print(f\"Proteinas: {Datos_mejor_dieta[1]}\")\n",
    "print(f\"Grasas: {Datos_mejor_dieta[2]}\")\n",
    "print(f\"Carbohidratos: {Datos_mejor_dieta[3]}\")\n",
    "\n",
    "# Enumerar los alimentos a consumir en la mejor dieta\n",
    "print(\"\\nAlimentos a consumir en la mejor dieta:\")\n",
    "for i, cantidad in enumerate(mejor_dieta):\n",
    "    if cantidad > 0:\n",
    "        alimento = alimentos[i][0]\n",
    "        print(f\"{i + 1}. {alimento}: {cantidad} unidades\")"
   ]
  }
 ],
 "metadata": {
  "kernelspec": {
   "display_name": "Python 3 (ipykernel)",
   "language": "python",
   "name": "python3"
  },
  "language_info": {
   "codemirror_mode": {
    "name": "ipython",
    "version": 3
   },
   "file_extension": ".py",
   "mimetype": "text/x-python",
   "name": "python",
   "nbconvert_exporter": "python",
   "pygments_lexer": "ipython3",
   "version": "3.11.3"
  }
 },
 "nbformat": 4,
 "nbformat_minor": 5
}
