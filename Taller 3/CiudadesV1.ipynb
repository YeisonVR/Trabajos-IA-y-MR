{
  "nbformat": 4,
  "nbformat_minor": 0,
  "metadata": {
    "colab": {
      "provenance": []
    },
    "kernelspec": {
      "name": "python3",
      "display_name": "Python 3"
    },
    "language_info": {
      "name": "python"
    }
  },
  "cells": [
    {
      "cell_type": "code",
      "source": [
        "import random\n",
        "\n",
        "# Datos del problema\n",
        "num_plantas = 4\n",
        "num_ciudades = 4\n",
        "\n",
        "# Demandas de energía de las ciudades en GW\n",
        "demanda = [4, 3, 5, 3]\n",
        "\n",
        "# Capacidad de producción de cada planta en GW\n",
        "capacidad_plantas = [3, 6, 5, 4]\n",
        "\n",
        "# Matriz de costos de transporte\n",
        "costos_transportacion = [\n",
        "    [1, 4, 3, 6],\n",
        "    [4, 1, 4, 5],\n",
        "    [3, 4, 1, 4],\n",
        "    [6, 5, 4, 1]\n",
        "]\n",
        "\n",
        "# Matriz de costos por KW-H por generador\n",
        "costos_generacion = [680, 720, 660, 750]\n",
        "\n",
        "# Parámetros del algoritmo genético\n",
        "tamano_poblacion = 200\n",
        "num_generaciones = 1500\n",
        "tasa_mutacion = 0.1\n",
        "\n",
        "# Función para calcular el costo total de un cromosoma\n",
        "def calcular_costo_total(asignacion):\n",
        "    costo_transportacion = 0\n",
        "    costo_generacion = 0\n",
        "\n",
        "    for ciudad in range(num_ciudades):\n",
        "        planta = asignacion[ciudad]\n",
        "        # Convertir la demanda de GW a KW\n",
        "        demanda_kw = demanda[ciudad] * 1e3\n",
        "        costo_generacion += demanda_kw * costos_generacion[planta]\n",
        "        for otra_ciudad in range(num_ciudades):\n",
        "            if ciudad != otra_ciudad:\n",
        "                costo_transportacion += demanda_kw * costos_transportacion[planta][otra_ciudad]\n",
        "\n",
        "    costo_total = costo_transportacion + costo_generacion\n",
        "    return costo_total\n",
        "\n",
        "# Inicialización de la población\n",
        "poblacion = []\n",
        "for _ in range(tamano_poblacion):\n",
        "    cromosoma = [random.randint(0, num_plantas - 1) for _ in range(num_ciudades)]\n",
        "    poblacion.append(cromosoma)\n",
        "\n",
        "# Algoritmo genético\n",
        "for generacion in range(num_generaciones):\n",
        "    # Evaluación de la aptitud de la población\n",
        "    aptitudes = [1 / calcular_costo_total(cromosoma) for cromosoma in poblacion]\n",
        "\n",
        "    # Selección de padres mediante ruleta\n",
        "    padres = random.choices(poblacion, weights=aptitudes, k=tamano_poblacion)\n",
        "\n",
        "    # Cruzamiento (crossover)\n",
        "    descendientes = []\n",
        "    for i in range(0, tamano_poblacion, 2):\n",
        "        padre1 = padres[i]\n",
        "        padre2 = padres[i + 1]\n",
        "        punto_cruce = random.randint(1, num_ciudades - 1)\n",
        "        hijo1 = padre1[:punto_cruce] + padre2[punto_cruce:]\n",
        "        hijo2 = padre2[:punto_cruce] + padre1[punto_cruce:]\n",
        "        descendientes.extend([hijo1, hijo2])\n",
        "\n",
        "    # Mutación\n",
        "    for i in range(tamano_poblacion):\n",
        "        if random.random() < tasa_mutacion:\n",
        "            gen_mutado = random.randint(0, num_ciudades - 1)\n",
        "            poblacion[i][gen_mutado] = random.randint(0, num_plantas - 1)\n",
        "\n",
        "    # Reemplazo de la población anterior con los descendientes\n",
        "    poblacion = descendientes\n",
        "\n",
        "# Encontrar la mejor solución\n",
        "mejor_solucion = min(poblacion, key=calcular_costo_total)\n",
        "mejor_costo = calcular_costo_total(mejor_solucion)\n",
        "\n",
        "print(\"Mejor asignación de plantas a ciudades:\", mejor_solucion)\n",
        "print(\"Costo total mínimo:\", mejor_costo)\n"
      ],
      "metadata": {
        "colab": {
          "base_uri": "https://localhost:8080/"
        },
        "id": "iEQlhVDfKJBy",
        "outputId": "3fdfea46-64fa-4b69-8130-e290864a89e9"
      },
      "execution_count": 2,
      "outputs": [
        {
          "output_type": "stream",
          "name": "stdout",
          "text": [
            "Mejor asignación de plantas a ciudades: [0, 2, 2, 2]\n",
            "Costo total mínimo: 10135000.0\n"
          ]
        }
      ]
    }
  ]
}