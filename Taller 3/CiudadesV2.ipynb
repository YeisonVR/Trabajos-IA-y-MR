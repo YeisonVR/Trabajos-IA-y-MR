{
  "nbformat": 4,
  "nbformat_minor": 0,
  "metadata": {
    "colab": {
      "provenance": []
    },
    "kernelspec": {
      "name": "python3",
      "display_name": "Python 3"
    },
    "language_info": {
      "name": "python"
    }
  },
  "cells": [
    {
      "cell_type": "code",
      "execution_count": 4,
      "metadata": {
        "colab": {
          "base_uri": "https://localhost:8080/"
        },
        "id": "KwVilB37G7ma",
        "outputId": "29b9f9f3-8b35-4b47-dec3-048ce25460f3"
      },
      "outputs": [
        {
          "output_type": "stream",
          "name": "stdout",
          "text": [
            "Mejor asignación de plantas a ciudades: [2, 2, 2, 2]\n",
            "Costo total mínimo: 10039000.0\n"
          ]
        }
      ],
      "source": [
        "import random\n",
        "\n",
        "# Datos del problema\n",
        "num_plantas = 4\n",
        "num_ciudades = 4\n",
        "\n",
        "demanda = [4, 3, 5, 3]\n",
        "capacidad_plantas = [3, 6, 5, 4]\n",
        "costos_transportacion = [\n",
        "    [1, 4, 3, 6],\n",
        "    [4, 1, 4, 5],\n",
        "    [3, 4, 1, 4],\n",
        "    [6, 5, 4, 1]\n",
        "]\n",
        "costos_generacion = [680, 720, 660, 750]\n",
        "\n",
        "# Parámetros del algoritmo genético (generados aleatoriamente)\n",
        "tamano_poblacion = random.randint(100, 300)\n",
        "num_generaciones = random.randint(1000, 2000)\n",
        "tasa_mutacion = 0.1\n",
        "\n",
        "def calcular_costo_total(asignacion):\n",
        "    costo_transportacion = 0\n",
        "    costo_generacion = 0\n",
        "\n",
        "    for ciudad in range(num_ciudades):\n",
        "        planta = asignacion[ciudad]\n",
        "        demanda_kw = demanda[ciudad] * 1e3\n",
        "        costo_generacion += demanda_kw * costos_generacion[planta]\n",
        "        for otra_ciudad in range(num_ciudades):\n",
        "            if ciudad != otra_ciudad:\n",
        "                costo_transportacion += demanda_kw * costos_transportacion[planta][otra_ciudad]\n",
        "\n",
        "    costo_total = costo_transportacion + costo_generacion\n",
        "    return costo_total\n",
        "\n",
        "def generar_poblacion():\n",
        "    poblacion = []\n",
        "    for _ in range(tamano_poblacion):\n",
        "        cromosoma = [random.randint(0, num_plantas - 1) for _ in range(num_ciudades)]\n",
        "        poblacion.append(cromosoma)\n",
        "    return poblacion\n",
        "\n",
        "def evaluar_aptitud(poblacion):\n",
        "    aptitudes = [1 / calcular_costo_total(cromosoma) for cromosoma in poblacion]\n",
        "    return aptitudes\n",
        "\n",
        "def seleccion_de_padres(poblacion, aptitudes):\n",
        "    padres = random.choices(poblacion, weights=aptitudes, k=tamano_poblacion)\n",
        "    return padres\n",
        "\n",
        "def cruzamiento(padres):\n",
        "    descendientes = []\n",
        "    for i in range(0, tamano_poblacion, 2):\n",
        "        padre1 = padres[i]\n",
        "        padre2 = padres[i + 1]\n",
        "        punto_cruce = random.randint(1, num_ciudades - 1)\n",
        "        hijo1 = padre1[:punto_cruce] + padre2[punto_cruce:]\n",
        "        hijo2 = padre2[:punto_cruce] + padre1[punto_cruce:]\n",
        "        descendientes.extend([hijo1, hijo2])\n",
        "    return descendientes\n",
        "\n",
        "def mutacion(poblacion):\n",
        "    for i in range(tamano_poblacion):\n",
        "        if random.random() < tasa_mutacion:\n",
        "            gen_mutado = random.randint(0, num_ciudades - 1)\n",
        "            poblacion[i][gen_mutado] = random.randint(0, num_plantas - 1)\n",
        "    return poblacion\n",
        "\n",
        "def reemplazar_poblacion(poblacion, descendientes):\n",
        "    poblacion = descendientes\n",
        "    return poblacion\n",
        "\n",
        "def algoritmo_genetico():\n",
        "    poblacion = generar_poblacion()\n",
        "\n",
        "    for generacion in range(num_generaciones):\n",
        "        aptitudes = evaluar_aptitud(poblacion)\n",
        "        padres = seleccion_de_padres(poblacion, aptitudes)\n",
        "        descendientes = cruzamiento(padres)\n",
        "        poblacion = mutacion(descendientes)\n",
        "        poblacion = reemplazar_poblacion(poblacion, descendientes)\n",
        "\n",
        "    mejor_solucion = min(poblacion, key=calcular_costo_total)\n",
        "    mejor_costo = calcular_costo_total(mejor_solucion)\n",
        "\n",
        "    print(\"Mejor asignación de plantas a ciudades:\", mejor_solucion)\n",
        "    print(\"Costo total mínimo:\", mejor_costo)\n",
        "\n",
        "# Ejecutar el algoritmo genético\n",
        "algoritmo_genetico()\n"
      ]
    }
  ]
}