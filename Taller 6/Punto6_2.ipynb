{
 "cells": [
  {
   "cell_type": "code",
   "execution_count": null,
   "id": "5626834c",
   "metadata": {},
   "outputs": [],
   "source": [
    "# Importar las bibliotecas y módulos necesarios\n",
    "from ucimlrepo import fetch_ucirepo \n",
    "from sklearn.model_selection import train_test_split\n",
    "from sklearn.svm import SVC\n",
    "from sklearn.metrics import accuracy_score, classification_report\n",
    "from sklearn.preprocessing import StandardScaler"
   ]
  },
  {
   "cell_type": "code",
   "execution_count": null,
   "id": "91505e30",
   "metadata": {},
   "outputs": [],
   "source": [
    "# Obtener el conjunto de datos Iris del repositorio UCI\n",
    "iris = fetch_ucirepo(id=53) \n",
    "\n",
    "# Extraer características (X) y etiquetas (y) del conjunto de datos\n",
    "X = iris.data.features \n",
    "y = iris.data.targets \n",
    "\n",
    "# Imprimir metadatos del conjunto de datos\n",
    "print(iris.metadata) \n",
    "\n",
    "# Imprimir información sobre las variables en el conjunto de datos\n",
    "print(iris.variables) "
   ]
  },
  {
   "cell_type": "markdown",
   "id": "4941b71f",
   "metadata": {},
   "source": [
    "Se utiliza fetch_ucirepo para obtener el conjunto de datos Iris (cuyo ID es 53).\n",
    "Las características (X) y las etiquetas (y) se extraen del conjunto de datos.\n",
    "Se imprimen metadatos y variables para entender mejor el conjunto de datos."
   ]
  },
  {
   "cell_type": "code",
   "execution_count": null,
   "id": "2d5977b4",
   "metadata": {},
   "outputs": [],
   "source": [
    "# Dividir los datos en conjuntos de entrenamiento y prueba\n",
    "X_train, X_test, y_train, y_test = train_test_split(X, y, test_size=0.2, random_state=42)\n"
   ]
  },
  {
   "cell_type": "markdown",
   "id": "c150e09e",
   "metadata": {},
   "source": [
    "Se dividen los datos en conjuntos de entrenamiento y prueba utilizando train_test_split.\n",
    "El 80% de los datos se utilizarán para entrenamiento y el 20% para prueba."
   ]
  },
  {
   "cell_type": "code",
   "execution_count": null,
   "id": "85487c18",
   "metadata": {},
   "outputs": [],
   "source": [
    "# Normalizar los datos (esto puede ser importante para algunos algoritmos)\n",
    "scaler = StandardScaler()\n",
    "X_train = scaler.fit_transform(X_train)\n",
    "X_test = scaler.transform(X_test)\n"
   ]
  },
  {
   "cell_type": "markdown",
   "id": "e5f50f30",
   "metadata": {},
   "source": [
    "Se utiliza StandardScaler para normalizar (escalar) los datos. Esto es importante para algunos algoritmos, incluidos los SVM."
   ]
  },
  {
   "cell_type": "code",
   "execution_count": null,
   "id": "afe9ff53",
   "metadata": {},
   "outputs": [],
   "source": [
    "# Crear el clasificador SVM\n",
    "svm_classifier = SVC()\n",
    "\n",
    "# Entrenar el modelo SVM con los datos de entrenamiento\n",
    "svm_classifier.fit(X_train, y_train)\n",
    "\n",
    "# Realizar predicciones en el conjunto de prueba\n",
    "y_pred = svm_classifier.predict(X_test)\n"
   ]
  },
  {
   "cell_type": "markdown",
   "id": "ee43f347",
   "metadata": {},
   "source": [
    "Se crea una instancia del clasificador SVM (SVC).\n",
    "El modelo se entrena utilizando los datos de entrenamiento."
   ]
  },
  {
   "cell_type": "code",
   "execution_count": null,
   "id": "2c2faf69",
   "metadata": {},
   "outputs": [],
   "source": [
    "# Evaluar la precisión del modelo\n",
    "accuracy = accuracy_score(y_test, y_pred)\n",
    "print(f'Precisión del modelo: {accuracy}')\n",
    "\n",
    "# Imprimir el informe de clasificación\n",
    "print('Informe de clasificación:')\n",
    "print(classification_report(y_test, y_pred))\n"
   ]
  },
  {
   "cell_type": "markdown",
   "id": "15325a8a",
   "metadata": {},
   "source": [
    "Se evalúa la precisión del modelo usando el conjunto de prueba.\n",
    "Se imprime la precisión del modelo y un informe de clasificación que incluye métricas como precisión, recall, y F1-score para cada clase."
   ]
  }
 ],
 "metadata": {
  "kernelspec": {
   "display_name": "Python 3 (ipykernel)",
   "language": "python",
   "name": "python3"
  },
  "language_info": {
   "codemirror_mode": {
    "name": "ipython",
    "version": 3
   },
   "file_extension": ".py",
   "mimetype": "text/x-python",
   "name": "python",
   "nbconvert_exporter": "python",
   "pygments_lexer": "ipython3",
   "version": "3.11.3"
  }
 },
 "nbformat": 4,
 "nbformat_minor": 5
}
