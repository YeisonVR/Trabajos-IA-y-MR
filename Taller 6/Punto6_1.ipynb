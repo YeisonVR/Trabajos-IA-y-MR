{
 "cells": [
  {
   "cell_type": "code",
   "execution_count": null,
   "id": "9152cef2",
   "metadata": {},
   "outputs": [],
   "source": [
    "import numpy as np\n",
    "from sklearn.model_selection import train_test_split\n",
    "from sklearn.linear_model import LinearRegression\n",
    "from sklearn.ensemble import RandomForestRegressor\n",
    "from sklearn.svm import SVR\n",
    "from sklearn.metrics import mean_squared_error"
   ]
  },
  {
   "cell_type": "code",
   "execution_count": null,
   "id": "6d6e37da",
   "metadata": {},
   "outputs": [],
   "source": [
    "# Generar valores aleatorios para x\n",
    "np.random.seed(42)  # Para reproducibilidad\n",
    "X = np.random.uniform(0, 100, 1000)  # Puedes ajustar el rango y la cantidad de datos\n",
    "\n",
    "# Calcular la raíz cuadrada para obtener los valores objetivo (y)\n",
    "y = np.sqrt(X)\n",
    "\n",
    "# Visualizar algunos datos generados\n",
    "print(\"X:\", X[:5])\n",
    "print(\"y:\", y[:5])\n"
   ]
  },
  {
   "cell_type": "markdown",
   "id": "6c06a97b",
   "metadata": {},
   "source": [
    "En esta sección, se generan datos aleatorios X uniformemente distribuidos entre 0 y 100. Luego, se calcula la raíz cuadrada de X para obtener los valores objetivo y.\n",
    "Ademas se imprimen los primeros cinco valores de X e Y para visualizar cómo se ven los datos generados."
   ]
  },
  {
   "cell_type": "code",
   "execution_count": null,
   "id": "6d9ca80c",
   "metadata": {},
   "outputs": [],
   "source": [
    "# Dividir el dataset en conjunto de entrenamiento y prueba\n",
    "X_train, X_test, y_train, y_test = train_test_split(X.reshape(-1, 1), y, test_size=0.2, random_state=42)\n"
   ]
  },
  {
   "cell_type": "markdown",
   "id": "d669546f",
   "metadata": {},
   "source": [
    "Esta línea divide el conjunto de datos en conjuntos de entrenamiento y prueba utilizando la función train_test_split. El 80% de los datos se utiliza para entrenamiento (X_train, y_train), y el 20% restante se utiliza para pruebas (X_test, y_test). random_state se establece para reproducibilidad."
   ]
  },
  {
   "cell_type": "code",
   "execution_count": null,
   "id": "c7fbb207",
   "metadata": {},
   "outputs": [],
   "source": [
    "# SVR puede manejar relaciones no lineales mediante el uso de funciones kernel.\n",
    "model_svr = SVR(kernel='rbf')  # 'rbf' es un kernel radial (gaussiano)\n",
    "model_svr.fit(X_train, y_train)"
   ]
  },
  {
   "cell_type": "markdown",
   "id": "e1f3fff4",
   "metadata": {},
   "source": [
    "Se crea un modelo de Máquinas de Soporte Vectorial (SVR) con un kernel radial (RBF, por sus siglas en inglés). SVR es capaz de manejar relaciones no lineales a través del uso de funciones kernel."
   ]
  },
  {
   "cell_type": "code",
   "execution_count": null,
   "id": "642ed45c",
   "metadata": {},
   "outputs": [],
   "source": [
    "# Realizar predicciones en el conjunto de prueba\n",
    "y_pred_svr = model_svr.predict(X_test.reshape(-1, 1))\n"
   ]
  },
  {
   "cell_type": "markdown",
   "id": "bdfe58ed",
   "metadata": {},
   "source": [
    "El modelo entrenado se utiliza para realizar predicciones en el conjunto de prueba (X_test)."
   ]
  },
  {
   "cell_type": "code",
   "execution_count": null,
   "id": "aded3a82",
   "metadata": {},
   "outputs": [],
   "source": [
    "# Evaluar el rendimiento del modelo SVR\n",
    "mse_svr = mean_squared_error(y_test, y_pred_svr)\n",
    "print(f\"Mean Squared Error (SVR): {mse_svr}\")"
   ]
  },
  {
   "cell_type": "markdown",
   "id": "cfb49c9b",
   "metadata": {},
   "source": [
    "Se calcula el error cuadrático medio (MSE) para evaluar el rendimiento del modelo SVR en el conjunto de prueba."
   ]
  },
  {
   "cell_type": "code",
   "execution_count": null,
   "id": "23802260",
   "metadata": {},
   "outputs": [],
   "source": [
    "# Calcular la raíz cuadrada usando la función del lenguaje para comparar\n",
    "y_actual = np.sqrt(X_test.flatten())"
   ]
  },
  {
   "cell_type": "markdown",
   "id": "ec4aba14",
   "metadata": {},
   "source": [
    "Se calcula la raíz cuadrada de los valores de X_test para obtener los valores reales correspondientes y poder compararlos con las predicciones del modelo."
   ]
  },
  {
   "cell_type": "code",
   "execution_count": null,
   "id": "a22cbdc6",
   "metadata": {},
   "outputs": [],
   "source": [
    "# Comparar los resultados\n",
    "comparison = np.column_stack((y_actual, y_pred_svr))\n",
    "print(\"Comparación de resultados:\")\n",
    "print(\"Actual   Predicted\")\n",
    "print(comparison[:10])\n"
   ]
  },
  {
   "cell_type": "markdown",
   "id": "fa3635c1",
   "metadata": {},
   "source": [
    "Finalmente, se comparan los resultados reales y predichos imprimiendo las primeras diez filas de la comparación. Esto proporciona una visión rápida de cómo se están comportando las predicciones en comparación con los valores reales."
   ]
  }
 ],
 "metadata": {
  "kernelspec": {
   "display_name": "Python 3 (ipykernel)",
   "language": "python",
   "name": "python3"
  },
  "language_info": {
   "codemirror_mode": {
    "name": "ipython",
    "version": 3
   },
   "file_extension": ".py",
   "mimetype": "text/x-python",
   "name": "python",
   "nbconvert_exporter": "python",
   "pygments_lexer": "ipython3",
   "version": "3.11.3"
  }
 },
 "nbformat": 4,
 "nbformat_minor": 5
}
